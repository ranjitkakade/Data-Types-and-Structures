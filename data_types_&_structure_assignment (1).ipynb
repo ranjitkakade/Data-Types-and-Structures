{
  "nbformat": 4,
  "nbformat_minor": 0,
  "metadata": {
    "colab": {
      "provenance": []
    },
    "kernelspec": {
      "name": "python3",
      "display_name": "Python 3"
    },
    "language_info": {
      "name": "python"
    }
  },
  "cells": [
    {
      "cell_type": "code",
      "execution_count": null,
      "metadata": {
        "id": "hVJZIk-5j6Lx"
      },
      "outputs": [],
      "source": []
    },
    {
      "cell_type": "markdown",
      "source": [
        " 1. What are data structures, and why are they important?\n",
        "\n",
        " - it is a wat to organizing & storing data\n",
        "\n",
        " - that it can accesed & maniputated the data\n",
        "\n",
        " - to manage data in python have differnt types of data types & fuctions like string,array,list,tuple,set,dictionary__ etc"
      ],
      "metadata": {
        "id": "x7ojOdW4kwsY"
      }
    },
    {
      "cell_type": "markdown",
      "source": [
        "2. Explain the difference between mutable and immutable data types with examples?\n",
        "\n",
        "- mutable data types are editable or change the values in every times with methods ex- list have mutable\n",
        "\n",
        "- immutable data types cant edit their values after existing the value like a tuple\n",
        "tuple is a immutable data type"
      ],
      "metadata": {
        "id": "fAxbQl-ymFW4"
      }
    },
    {
      "cell_type": "markdown",
      "source": [
        "3. What are the main differences between lists and tuples in Python?\n",
        "\n",
        "- list are mutable data types & it have diffent fuction like __.append(),__.remove(),also it can defined in box bracket[]\n",
        "\n",
        "- tuple is immutable data types & it is defined in {} curly bracket also, it can't editable  "
      ],
      "metadata": {
        "id": "puLVlmUtneNi"
      }
    },
    {
      "cell_type": "markdown",
      "source": [
        "4. Describe how dictionaries store data\n",
        "\n",
        "-  in dictionaries every assigned value have a unique key that is act like index of data that key have value like: student={'name':'ranjit','mark':95},type(student) they will display dictionaries & it can store heterogenious data & also accept the updated data as value of a data"
      ],
      "metadata": {
        "id": "16SuXMHaotVc"
      }
    },
    {
      "cell_type": "markdown",
      "source": [
        " 5. Why might you use a set instead of a list in Python?\n",
        "\n",
        " - so we use set instead of a list in python because list can display also duplicate values in output but set display only unique value in output that's we use set instead of list\n",
        "\n",
        " - set is unordered collection of unique element & can't acess data position with index in set"
      ],
      "metadata": {
        "id": "hJyo3uIRqQDh"
      }
    },
    {
      "cell_type": "markdown",
      "source": [
        "6. What is a string in Python, and how is it different from a list?\n",
        "\n",
        "- string is represent a sequence of characters & represent and maipulate a texual data, also characters are represented using numerical values, string are immutable object in python\n",
        "\n",
        "-  can store the heterogenous data & it is assign in [] box bracket, it can store any type data &list are  mutable object in python"
      ],
      "metadata": {
        "id": "tTet-KLArrl0"
      }
    },
    {
      "cell_type": "markdown",
      "source": [
        "7. How do tuples ensure data integrity in Python?\n",
        "\n",
        "- tuples are immutable data type that's it ensures data intigrity in python & it is ordered collection of elements & it is accessed by index also,it is also heterogenous t=(1,2,3'apple',2.4,(3+6k))"
      ],
      "metadata": {
        "id": "_rohvkZ5tr8S"
      }
    },
    {
      "cell_type": "markdown",
      "source": [
        "8. What is a hash table, and how does it relate to dictionaries in Python?\n",
        "\n",
        "- A hash table is a data structure that stores key-value pairs, using a hash function to map keys to indices in an array for quick access. Python dictionaries are implemented using hash tables,  They handle collisions (when two keys hash to the same index) efficiently, making them a powerful tool for fast key-value storage."
      ],
      "metadata": {
        "id": "05CB2FclzN6x"
      }
    },
    {
      "cell_type": "markdown",
      "source": [
        "9. Can lists contain different data types in Python?\n",
        "\n",
        "- yes list is heterogenous type it can contain all data types in list, it can assingn using box[] bracket\n",
        "\n",
        "- list=['a',2,2.5,true,(4+5j)]"
      ],
      "metadata": {
        "id": "sTwdF79M0ieb"
      }
    },
    {
      "cell_type": "markdown",
      "source": [
        "10. Explain why strings are immutable in Python?\n",
        "\n",
        "- in string can't edit the values after existing the value in string that's string are immutable data type in python or object/container whose value cannot change after they are created\n"
      ],
      "metadata": {
        "id": "A9ARAk0b1cSf"
      }
    },
    {
      "cell_type": "markdown",
      "source": [
        "11. What advantages do dictionaries offer over lists for certain tasks?\n",
        "\n",
        "- in dictionaries they provide for each value having unique key that & each value is accessed by using key & in dict __.values() use to print all values from dict"
      ],
      "metadata": {
        "id": "73dz_rOt-O3G"
      }
    },
    {
      "cell_type": "markdown",
      "source": [
        "12. Describe a scenario where using a tuple would be preferable over a list?\n",
        "\n",
        "-  tuples are immutable data type that's it ensures data intigrity in python & it is ordered collection of elements & it is accessed by index also,it is also heterogenous t=(1,2,3'apple',2.4,(3+6k))"
      ],
      "metadata": {
        "id": "8ihICoFn_RPQ"
      }
    },
    {
      "cell_type": "markdown",
      "source": [
        "13. How do sets handle duplicate values in Python?\n",
        "\n",
        "- in sets unordered collection of unique elements in python & it doesn't allow duplicate elements & set is a mutable also\n",
        "- after executing the set it display only unique values"
      ],
      "metadata": {
        "id": "LMU1CnBFAQ2O"
      }
    },
    {
      "cell_type": "markdown",
      "source": [
        "14.  How does the “in” keyword work differently for lists and dictionariers?\n",
        "\n",
        "- For lists: in checks if an element is in the list.\n",
        "For dictionaries: in checks if a key is in the dictionary.\n",
        "To check for values in a dictionary, you would use .values().\n",
        "\n",
        "- in list 'in' is use for check element in list or not\n",
        "- in dict 'in' is use to check key is in dict or not if it not then output will be folse"
      ],
      "metadata": {
        "id": "KiN2ovpXAShR"
      }
    },
    {
      "cell_type": "markdown",
      "source": [
        "15.  Can you modify the elements of a tuple? Explain why or why not.\n",
        "\n",
        "-  you cannot modify the elements of a tuple because tuples are **immutable**. However, if a tuple contains a mutable object (like a list), you can modify that object inside the tuple."
      ],
      "metadata": {
        "id": "lvP_l5WeAUSz"
      }
    },
    {
      "cell_type": "markdown",
      "source": [
        "16. What is a nested dictionary, and give an example of its use case?\n",
        "\n",
        "- if we have 2 dict & i want to combine it then i will use nested dictionary\n",
        "- A nested dictionary is a dictionary where the values are themselves dictionaries. In other words, it’s a dictionary inside another dictionary, allowing for more complex data structures.\n",
        "- student_info = {\n",
        "    \"student1\": {\n",
        "        \"name\": \"John\",\n",
        "        \"age\": 21,\n",
        "        \"courses\": [\"Math\", \"Science\"]\n",
        "    },\n",
        "    \"student2\": {\n",
        "        \"name\": \"Jane\",\n",
        "        \"age\": 22,\n",
        "        \"courses\": [\"History\", \"Art\"]\n",
        "    }\n",
        "}"
      ],
      "metadata": {
        "id": "tJmaMvXlAXo8"
      }
    },
    {
      "cell_type": "markdown",
      "source": [
        "17. //Describe the time complexity of accessing elements in a dictionary\n",
        "- The time complexity of accessing elements in a dictionary is O(1) on average.\n",
        "\n",
        "- This is because dictionaries in Python are implemented using a hash table. When you access an element using a key, Python computes the hash value of the key and uses it to directly look up the corresponding value. This lookup process typically takes constant time, hence the O(1) time complexity."
      ],
      "metadata": {
        "id": "G8t_TN3MAe99"
      }
    },
    {
      "cell_type": "markdown",
      "source": [
        "18. In what situations are lists preferred over dictionaries?\n",
        "\n",
        "- When you need an ordered collection\n",
        "- When accessing elements by index\n",
        "- When the data is simple and homogeneous\n",
        "- When you don't need key-value pairs"
      ],
      "metadata": {
        "id": "6vX0yxTGAgDM"
      }
    },
    {
      "cell_type": "markdown",
      "source": [
        "19.  Why are dictionaries considered unordered, and how does that affect data retrieval?\n",
        "\n",
        "- Dictionaries are considered unordered because, although Python 3.7+ maintains insertion order during iteration, they are optimized for fast lookups by key, not for preserving order. Data retrieval is efficient (O(1) on average) using keys, but order should not be relied upon for operations like sorting."
      ],
      "metadata": {
        "id": "TZ-A9s7_AhYl"
      }
    },
    {
      "cell_type": "markdown",
      "source": [
        "20. Explain the difference between a list and a dictionary in terms of data retrieval\n",
        "\n",
        "- A **list** retrieves data by **index** (position), while a **dictionary** retrieves data by **key**. Both have **O(1)** time complexity for retrieval, but lists use indexes, and dictionaries use keys."
      ],
      "metadata": {
        "id": "13qFZ31oAq5b"
      }
    },
    {
      "cell_type": "markdown",
      "source": [
        "#practical questions\n",
        "#1.Write a code to create a string with your name and print it\n",
        "\n"
      ],
      "metadata": {
        "id": "axoNhb6fAsbw"
      }
    },
    {
      "cell_type": "code",
      "source": [
        "name='ranjit'\n",
        "name\n",
        "print(name)"
      ],
      "metadata": {
        "colab": {
          "base_uri": "https://localhost:8080/"
        },
        "id": "HJuD-m8-BASF",
        "outputId": "6ff12a8a-7c98-4a55-b0a9-de6e6cf4deef"
      },
      "execution_count": null,
      "outputs": [
        {
          "output_type": "stream",
          "name": "stdout",
          "text": [
            "ranjit\n"
          ]
        }
      ]
    },
    {
      "cell_type": "markdown",
      "source": [
        "#2.Write a code to find the length of the string \"Hello World\""
      ],
      "metadata": {
        "id": "a0NS7AbcBUZ2"
      }
    },
    {
      "cell_type": "code",
      "source": [
        "str='hello world'\n",
        "str\n",
        "len(str)"
      ],
      "metadata": {
        "colab": {
          "base_uri": "https://localhost:8080/"
        },
        "id": "3V0kIDsRBd2W",
        "outputId": "f8c5671a-ec25-48c8-cdb0-093a8689c1e1"
      },
      "execution_count": null,
      "outputs": [
        {
          "output_type": "execute_result",
          "data": {
            "text/plain": [
              "11"
            ]
          },
          "metadata": {},
          "execution_count": 9
        }
      ]
    },
    {
      "cell_type": "markdown",
      "source": [
        "#3.Write a code to slice the first 3 characters from the string \"Python Programming\"."
      ],
      "metadata": {
        "id": "2px6Kp5gChrZ"
      }
    },
    {
      "cell_type": "code",
      "source": [
        "str='Python Programming'\n",
        "str[0:3]"
      ],
      "metadata": {
        "colab": {
          "base_uri": "https://localhost:8080/",
          "height": 36
        },
        "id": "fqAoM_aWCmIp",
        "outputId": "feb6b3e2-a799-4f17-ecf5-b7bce9f80982"
      },
      "execution_count": null,
      "outputs": [
        {
          "output_type": "execute_result",
          "data": {
            "text/plain": [
              "'Pyt'"
            ],
            "application/vnd.google.colaboratory.intrinsic+json": {
              "type": "string"
            }
          },
          "metadata": {},
          "execution_count": 10
        }
      ]
    },
    {
      "cell_type": "markdown",
      "source": [
        "#4. Write a code to convert the string \"hello\" to uppercase."
      ],
      "metadata": {
        "id": "fFmVbZRiDUVn"
      }
    },
    {
      "cell_type": "code",
      "source": [
        "str='hello'\n",
        "str\n",
        "str.upper()"
      ],
      "metadata": {
        "colab": {
          "base_uri": "https://localhost:8080/",
          "height": 36
        },
        "id": "f_Y00_cjDbIx",
        "outputId": "d8593f11-3d7d-48f5-dc7b-eaedc922cf4a"
      },
      "execution_count": null,
      "outputs": [
        {
          "output_type": "execute_result",
          "data": {
            "text/plain": [
              "'HELLO'"
            ],
            "application/vnd.google.colaboratory.intrinsic+json": {
              "type": "string"
            }
          },
          "metadata": {},
          "execution_count": 13
        }
      ]
    },
    {
      "cell_type": "markdown",
      "source": [
        "#5. Write a code to replace the word \"apple\" with \"orange\" in the string \"I like apple\"."
      ],
      "metadata": {
        "id": "Xm4DgmRzD1Mi"
      }
    },
    {
      "cell_type": "code",
      "source": [
        "str='l like apple'\n",
        "str.replace('apple','orange')"
      ],
      "metadata": {
        "colab": {
          "base_uri": "https://localhost:8080/",
          "height": 36
        },
        "id": "x9f8rWNTD7bG",
        "outputId": "efbfc1e1-6759-4985-d2d2-b3db0c423542"
      },
      "execution_count": null,
      "outputs": [
        {
          "output_type": "execute_result",
          "data": {
            "text/plain": [
              "'l like orange'"
            ],
            "application/vnd.google.colaboratory.intrinsic+json": {
              "type": "string"
            }
          },
          "metadata": {},
          "execution_count": 14
        }
      ]
    },
    {
      "cell_type": "markdown",
      "source": [
        "#6.Write a code to create a list with numbers 1 to 5 and print it."
      ],
      "metadata": {
        "id": "n7ghYrzxELfP"
      }
    },
    {
      "cell_type": "code",
      "source": [
        "my_list=[1,2,3,4,5]\n",
        "my_list"
      ],
      "metadata": {
        "colab": {
          "base_uri": "https://localhost:8080/"
        },
        "id": "fBqBycfCEV2H",
        "outputId": "bf423220-ba99-49f3-9886-71e9ac1a9740"
      },
      "execution_count": null,
      "outputs": [
        {
          "output_type": "execute_result",
          "data": {
            "text/plain": [
              "[1, 2, 3, 4, 5]"
            ]
          },
          "metadata": {},
          "execution_count": 29
        }
      ]
    },
    {
      "cell_type": "markdown",
      "source": [
        "#7. Write a code to append the number 10 to the list [1, 2, 3, 4]."
      ],
      "metadata": {
        "id": "z1j-nFeyRsgE"
      }
    },
    {
      "cell_type": "code",
      "source": [
        "list=[1,2,3,4]\n",
        "list\n",
        "list.append(10)\n",
        "list"
      ],
      "metadata": {
        "colab": {
          "base_uri": "https://localhost:8080/"
        },
        "id": "qhw2T_8aR1M9",
        "outputId": "6702d81a-6d8e-445c-9082-18efe4a44e98"
      },
      "execution_count": null,
      "outputs": [
        {
          "output_type": "execute_result",
          "data": {
            "text/plain": [
              "[1, 2, 3, 4, 10]"
            ]
          },
          "metadata": {},
          "execution_count": 32
        }
      ]
    },
    {
      "cell_type": "markdown",
      "source": [
        "#8.Write a code to remove the number 3 from the list [1, 2, 3, 4, 5]."
      ],
      "metadata": {
        "id": "DklE3LOMSEIC"
      }
    },
    {
      "cell_type": "code",
      "source": [
        "list=[1,2,3,4]\n",
        "list\n",
        "list.remove(3)\n",
        "list"
      ],
      "metadata": {
        "colab": {
          "base_uri": "https://localhost:8080/"
        },
        "id": "AGAoMb0aSKMk",
        "outputId": "91ea7ceb-a273-41fc-ed02-ba0c30a05302"
      },
      "execution_count": null,
      "outputs": [
        {
          "output_type": "execute_result",
          "data": {
            "text/plain": [
              "[1, 2, 4]"
            ]
          },
          "metadata": {},
          "execution_count": 34
        }
      ]
    },
    {
      "cell_type": "markdown",
      "source": [
        "#9.Write a code to access the second element in the list ['a', 'b', 'c', 'd']."
      ],
      "metadata": {
        "id": "E5ylMyeeSZer"
      }
    },
    {
      "cell_type": "code",
      "source": [
        "s=['a','b','c','d']\n",
        "s[1]"
      ],
      "metadata": {
        "colab": {
          "base_uri": "https://localhost:8080/",
          "height": 36
        },
        "id": "RZec2U3mSfvt",
        "outputId": "d5239fff-b27c-4186-e1fc-4a4b21af684d"
      },
      "execution_count": null,
      "outputs": [
        {
          "output_type": "execute_result",
          "data": {
            "text/plain": [
              "'b'"
            ],
            "application/vnd.google.colaboratory.intrinsic+json": {
              "type": "string"
            }
          },
          "metadata": {},
          "execution_count": 35
        }
      ]
    },
    {
      "cell_type": "markdown",
      "source": [
        "#10. Write a code to reverse the list [10, 20, 30, 40, 50]."
      ],
      "metadata": {
        "id": "RQkQoMVHTEGT"
      }
    },
    {
      "cell_type": "code",
      "source": [
        "l=[10,20,30,40,50]\n",
        "l.reverse()\n",
        "l"
      ],
      "metadata": {
        "colab": {
          "base_uri": "https://localhost:8080/"
        },
        "id": "oCJMdYHyTK16",
        "outputId": "140e86f5-11d9-488f-ee13-9fd824a20678"
      },
      "execution_count": null,
      "outputs": [
        {
          "output_type": "execute_result",
          "data": {
            "text/plain": [
              "[50, 40, 30, 20, 10]"
            ]
          },
          "metadata": {},
          "execution_count": 37
        }
      ]
    },
    {
      "cell_type": "code",
      "source": [
        "set={1,2,3,4,5,6,6,5,4,4,3,3,2,22,1}\n",
        "set"
      ],
      "metadata": {
        "colab": {
          "base_uri": "https://localhost:8080/"
        },
        "id": "D4-RNWz6VRnp",
        "outputId": "2abef536-f5dc-42ce-b835-3061917c4240"
      },
      "execution_count": null,
      "outputs": [
        {
          "output_type": "execute_result",
          "data": {
            "text/plain": [
              "{1, 2, 3, 4, 5, 6, 22}"
            ]
          },
          "metadata": {},
          "execution_count": 39
        }
      ]
    },
    {
      "cell_type": "code",
      "source": [],
      "metadata": {
        "id": "70h2lrE5V1jd"
      },
      "execution_count": null,
      "outputs": []
    }
  ]
}